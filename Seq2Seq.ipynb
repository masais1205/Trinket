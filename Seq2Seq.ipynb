{
 "cells": [
  {
   "cell_type": "markdown",
   "metadata": {},
   "source": [
    "# Seq2Seq Model"
   ]
  },
  {
   "cell_type": "code",
   "execution_count": 2,
   "metadata": {
    "collapsed": false
   },
   "outputs": [],
   "source": [
    "import numpy as np\n",
    "import theano\n",
    "from theano import tensor as T\n",
    "from model.th.ug_utils import floatX, Dropout\n",
    "from model.th.rnn import (RNN, SequenceLogisticRegression, LogisticRegression, GRULayer, GRULayerAttention, LSTMLayer,\n",
    "                 LayerWrapper, seq_cat_crossent, Downscale, cross_entropy)\n",
    "from model.th.encdec_shared import BiRNNEncoder, reverse_sent, RNNEncoder\n",
    "from model.th.opt import get_opt_fn\n",
    "from model.th.ug_utils import (glorot_init, norm_init, uniform_init,\n",
    "                      get_sequence_dropout_mask, _linear_params)\n",
    "from model.th.opt import optimizers\n",
    "from model.th.run_utils import setup_exp\n",
    "from model.th.util import load_vocab\n",
    "from os.path import join as pjoin\n",
    "from trident_cfg import STORY_DATA_PATH, VOCAB_PATH, EMBED_PATH\n",
    "from data.story_loader import StoryLoader\n",
    "\n",
    "%load_ext autoreload\n",
    "%autoreload 2"
   ]
  },
  {
   "cell_type": "code",
   "execution_count": 4,
   "metadata": {
    "collapsed": false
   },
   "outputs": [],
   "source": [
    "word_idx_map, idx_word_map = load_vocab(VOCAB_PATH)\n",
    "vocab_size = len(idx_word_map)\n",
    "\n",
    "loader = StoryLoader(STORY_DATA_PATH,\n",
    "                         batch_size=50, src_seq_len=65,\n",
    "                         tgt_seq_len=20, mode='merged')\n",
    "\n",
    "embed = loader.get_w2v_embed().astype('float32')"
   ]
  },
  {
   "cell_type": "markdown",
   "metadata": {},
   "source": [
    "## Examine if `RNNTargetEncoder` works\n",
    "\n",
    "It also has an olayer"
   ]
  },
  {
   "cell_type": "code",
   "execution_count": 94,
   "metadata": {
    "collapsed": true
   },
   "outputs": [],
   "source": [
    "from model.th.story_model import RNNTargetEncoder\n",
    "\n",
    "args = type('Args', (object,), {\"rnn_dim\":256, 'recdrop':False, 'stocdrop':0.0, 'dropout':0.0, 'rlayers':2,\n",
    "                               'label_size':2, 'input_size': 300, 'src_steps': 65})()\n",
    "pdrop = T.scalar(dtype=floatX)\n",
    "src_sent = T.imatrix('src_sent')\n",
    "tgt_sent = T.imatrix('tgt_sent')\n",
    "space_mask = T.bmatrix('space_mask')\n",
    "\n",
    "src_mask = T.ones_like(src_sent).astype(floatX)  # this is used to drop words? Now we don't\n",
    "tgt_mask = T.ones_like(tgt_sent).astype(floatX)  # this is used to drop words? Now we don't\n",
    "\n",
    "labels = T.ivector('labels')\n",
    "\n",
    "embedding = theano.shared(embed, 'embedding', borrow=True)"
   ]
  },
  {
   "cell_type": "code",
   "execution_count": 44,
   "metadata": {
    "collapsed": false
   },
   "outputs": [
    {
     "ename": "NameError",
     "evalue": "name 'labels' is not defined",
     "output_type": "error",
     "traceback": [
      "\u001b[0;31m---------------------------------------------------------------------------\u001b[0m",
      "\u001b[0;31mNameError\u001b[0m                                 Traceback (most recent call last)",
      "\u001b[0;32m<ipython-input-44-750f206cd43b>\u001b[0m in \u001b[0;36m<module>\u001b[0;34m()\u001b[0m\n\u001b[0;32m----> 1\u001b[0;31m \u001b[0mtgt_encoder\u001b[0m \u001b[0;34m=\u001b[0m \u001b[0mRNNTargetEncoder\u001b[0m\u001b[0;34m(\u001b[0m\u001b[0mtgt_sent\u001b[0m\u001b[0;34m.\u001b[0m\u001b[0mT\u001b[0m\u001b[0;34m,\u001b[0m \u001b[0mtgt_mask\u001b[0m\u001b[0;34m.\u001b[0m\u001b[0mT\u001b[0m\u001b[0;34m,\u001b[0m \u001b[0membedding\u001b[0m\u001b[0;34m,\u001b[0m \u001b[0mlabels\u001b[0m\u001b[0;34m,\u001b[0m \u001b[0mpdrop\u001b[0m\u001b[0;34m,\u001b[0m \u001b[0margs\u001b[0m\u001b[0;34m)\u001b[0m\u001b[0;34m\u001b[0m\u001b[0m\n\u001b[0m",
      "\u001b[0;31mNameError\u001b[0m: name 'labels' is not defined"
     ]
    }
   ],
   "source": [
    "tgt_encoder = RNNTargetEncoder(tgt_sent.T, tgt_mask.T, embedding, labels, pdrop, args)"
   ]
  },
  {
   "cell_type": "code",
   "execution_count": 116,
   "metadata": {
    "collapsed": false
   },
   "outputs": [],
   "source": [
    "outputs_info = [T.zeros((tgt_sent.T.shape[1], args.rnn_dim)).astype(floatX)]\n",
    "rlayers = list()\n",
    "\n",
    "inp = embedding[tgt_sent.T]\n",
    "\n",
    "# exclude last prediction\n",
    "seqmask = get_sequence_dropout_mask((tgt_sent.T.shape[0], tgt_sent.T.shape[1], embedding.shape[1]), pdrop)\n",
    "inplayer = GRULayer(inp.astype(floatX), tgt_mask.T, seqmask, embed.shape[1], outputs_info,\n",
    "                    args, backwards=False)\n",
    "\n",
    "rlayers.append(inplayer)\n",
    "for k in xrange(1, args.rlayers):\n",
    "    inp = rlayers[-1].out\n",
    "    seqmask = get_sequence_dropout_mask((tgt_sent.T.shape[0], tgt_sent.T.shape[1], args.rnn_dim), pdrop)\n",
    "    rlayer = GRULayer(Dropout(inp, pdrop).out, tgt_mask.T, seqmask, args.rnn_dim,\n",
    "                      outputs_info, args, backwards=False)\n",
    "    rlayers.append(rlayer)\n",
    "\n",
    "last_layer = Dropout(rlayers[-1].out, pdrop)\n",
    "olayer = LogisticRegression(Dropout(rlayers[-1].out, pdrop).out[-1, :, :], args.rnn_dim,\n",
    "                                    args.label_size)\n",
    "cost = cross_entropy(olayer.out, labels, normalize=False)"
   ]
  },
  {
   "cell_type": "code",
   "execution_count": 52,
   "metadata": {
    "collapsed": false
   },
   "outputs": [],
   "source": [
    "test_func = theano.function([tgt_sent, pdrop], [last_layer.out])"
   ]
  },
  {
   "cell_type": "code",
   "execution_count": 125,
   "metadata": {
    "collapsed": false
   },
   "outputs": [],
   "source": [
    "x, (y, y_2), real_label = loader.get_batch('train', 2)\n",
    "a = test_func(y, 0.0)"
   ]
  },
  {
   "cell_type": "code",
   "execution_count": 126,
   "metadata": {
    "collapsed": false
   },
   "outputs": [
    {
     "name": "stdout",
     "output_type": "stream",
     "text": [
      "(20, 50, 256)\n"
     ]
    }
   ],
   "source": [
    "print a[0].shape"
   ]
  },
  {
   "cell_type": "code",
   "execution_count": 127,
   "metadata": {
    "collapsed": false
   },
   "outputs": [
    {
     "data": {
      "text/plain": [
       "(50,)"
      ]
     },
     "execution_count": 127,
     "metadata": {},
     "output_type": "execute_result"
    }
   ],
   "source": [
    "real_label.flatten().shape"
   ]
  },
  {
   "cell_type": "code",
   "execution_count": 128,
   "metadata": {
    "collapsed": false
   },
   "outputs": [],
   "source": [
    "test_cost = theano.function([tgt_sent, pdrop, labels], [cost])"
   ]
  },
  {
   "cell_type": "code",
   "execution_count": 131,
   "metadata": {
    "collapsed": false
   },
   "outputs": [
    {
     "data": {
      "text/plain": [
       "[array(0.6927227973937988, dtype=float32)]"
      ]
     },
     "execution_count": 131,
     "metadata": {},
     "output_type": "execute_result"
    }
   ],
   "source": [
    "test_cost(y, 0.0, real_label)"
   ]
  },
  {
   "cell_type": "code",
   "execution_count": 132,
   "metadata": {
    "collapsed": false
   },
   "outputs": [],
   "source": [
    "# prediction\n",
    "test_olayer_out = theano.function([tgt_sent, pdrop], [olayer.y_pred])"
   ]
  },
  {
   "cell_type": "code",
   "execution_count": 133,
   "metadata": {
    "collapsed": false
   },
   "outputs": [
    {
     "data": {
      "text/plain": [
       "[array([0, 0, 0, 0, 0, 0, 0, 0, 1, 0, 0, 0, 0, 0, 0, 0, 0, 0, 0, 0, 1, 0, 0,\n",
       "        0, 0, 1, 0, 0, 0, 0, 0, 0, 0, 0, 0, 0, 0, 0, 0, 0, 0, 0, 1, 0, 1, 1,\n",
       "        0, 0, 0, 0])]"
      ]
     },
     "execution_count": 133,
     "metadata": {},
     "output_type": "execute_result"
    }
   ],
   "source": [
    "preds = test_olayer_out(y, 0.0)\n",
    "preds"
   ]
  },
  {
   "cell_type": "code",
   "execution_count": 134,
   "metadata": {
    "collapsed": false
   },
   "outputs": [
    {
     "data": {
      "text/plain": [
       "0.47999999999999998"
      ]
     },
     "execution_count": 134,
     "metadata": {},
     "output_type": "execute_result"
    }
   ],
   "source": [
    "np.mean(preds == real_label)"
   ]
  },
  {
   "cell_type": "markdown",
   "metadata": {},
   "source": [
    "## Explore RNNEncoder"
   ]
  },
  {
   "cell_type": "code",
   "execution_count": 97,
   "metadata": {
    "collapsed": false
   },
   "outputs": [],
   "source": [
    "encoder = RNNEncoder(src_sent.T, src_mask.T, space_mask.T, embedding, pdrop, args)"
   ]
  },
  {
   "cell_type": "code",
   "execution_count": 101,
   "metadata": {
    "collapsed": false
   },
   "outputs": [],
   "source": [
    "func_outputinfo = theano.function([src_sent, pdrop], encoder.out)"
   ]
  },
  {
   "cell_type": "code",
   "execution_count": 103,
   "metadata": {
    "collapsed": false
   },
   "outputs": [],
   "source": [
    "outputinfo = func_outputinfo(x, 0.0)"
   ]
  },
  {
   "cell_type": "code",
   "execution_count": 105,
   "metadata": {
    "collapsed": false
   },
   "outputs": [
    {
     "data": {
      "text/plain": [
       "(50, 256)"
      ]
     },
     "execution_count": 105,
     "metadata": {},
     "output_type": "execute_result"
    }
   ],
   "source": [
    "outputinfo[0].shape"
   ]
  },
  {
   "cell_type": "markdown",
   "metadata": {
    "collapsed": true
   },
   "source": [
    "## Explore RNNEncoderAttention\n",
    "\n",
    "RNNEncoder Attention explored outside attention connection (but no inner attention)"
   ]
  },
  {
   "cell_type": "code",
   "execution_count": 5,
   "metadata": {
    "collapsed": false
   },
   "outputs": [],
   "source": [
    "from model.th.story_model import RNNEncoderAttention\n",
    "\n",
    "args = type('Args', (object,), {\"rnn_dim\":256, 'recdrop':False, 'stocdrop':0.0, 'dropout':0.0, 'rlayers':2,\n",
    "                               'label_size':2, 'input_size': 300, 'src_steps': 65})()\n",
    "pdrop = T.scalar(dtype=floatX)\n",
    "src_sent = T.imatrix('src_sent')\n",
    "tgt_sent = T.imatrix('tgt_sent')\n",
    "space_mask = T.bmatrix('space_mask')\n",
    "\n",
    "src_mask = T.ones_like(src_sent).astype(floatX)  # this is used to drop words? Now we don't\n",
    "tgt_mask = T.ones_like(tgt_sent).astype(floatX)  # this is used to drop words? Now we don't\n",
    "\n",
    "labels = T.ivector('labels')\n",
    "\n",
    "embedding = theano.shared(embed, 'embedding', borrow=True)"
   ]
  },
  {
   "cell_type": "code",
   "execution_count": null,
   "metadata": {
    "collapsed": true
   },
   "outputs": [],
   "source": []
  }
 ],
 "metadata": {
  "kernelspec": {
   "display_name": "Python 2",
   "language": "python",
   "name": "python2"
  },
  "language_info": {
   "codemirror_mode": {
    "name": "ipython",
    "version": 2
   },
   "file_extension": ".py",
   "mimetype": "text/x-python",
   "name": "python",
   "nbconvert_exporter": "python",
   "pygments_lexer": "ipython2",
   "version": "2.7.10"
  }
 },
 "nbformat": 4,
 "nbformat_minor": 0
}
